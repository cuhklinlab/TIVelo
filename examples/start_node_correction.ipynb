{
 "cells": [
  {
   "cell_type": "markdown",
   "metadata": {},
   "source": [
    "## Refined start node selection strategy through CytoTRACE2"
   ]
  },
  {
   "cell_type": "code",
   "execution_count": 1,
   "metadata": {},
   "outputs": [],
   "source": [
    "import numpy as np\n",
    "import scanpy as sc\n",
    "import scvelo as scv\n",
    "import pandas as pd\n",
    "import matplotlib.pyplot as plt\n",
    "\n",
    "import sys\n",
    "sys.path.append(\"..\")\n",
    "from tivelo.path.prune import graph_prune\n",
    "from tivelo.path.start_node import get_start_node"
   ]
  },
  {
   "cell_type": "code",
   "execution_count": 2,
   "metadata": {},
   "outputs": [],
   "source": [
    "data_name = \"dentategyrus\"\n",
    "data_path = \"/lustre/project/Stat/s1155184322/datasets/velocity/10X43_1_processed.h5ad\"\n",
    "adata = sc.read(data_path)\n",
    "\n",
    "group_key = \"clusters\"\n",
    "emb_key = \"X_umap\"\n",
    "cluster_edges = [(\"nIPC\", \"Neuroblast\"), (\"Neuroblast\", \"Granule immature\"), (\"Granule immature\", \"Granule mature\"),\n",
    "                 ('OPC', 'OL')]"
   ]
  },
  {
   "cell_type": "code",
   "execution_count": 3,
   "metadata": {},
   "outputs": [
    {
     "name": "stdout",
     "output_type": "stream",
     "text": [
      "computing velocities\n",
      "    finished (0:00:00) --> added \n",
      "    'velocity', velocity vectors for each individual cell (adata.layers)\n",
      "computing velocity graph (using 16/128 cores)\n"
     ]
    },
    {
     "data": {
      "application/vnd.jupyter.widget-view+json": {
       "model_id": "5f11846945af4af6ac536da4c831e960",
       "version_major": 2,
       "version_minor": 0
      },
      "text/plain": [
       "  0%|          | 0/2930 [00:00<?, ?cells/s]"
      ]
     },
     "metadata": {},
     "output_type": "display_data"
    },
    {
     "name": "stdout",
     "output_type": "stream",
     "text": [
      "    finished (0:00:09) --> added \n",
      "    'velocity_graph', sparse matrix with cosine correlations (adata.uns)\n",
      "computing terminal states\n",
      "WARNING: Uncertain or fuzzy root cell identification. Please verify.\n",
      "    identified 4 regions of root cells and 5 regions of end points .\n",
      "    finished (0:00:00) --> added\n",
      "    'root_cells', root cells of Markov diffusion process (adata.obs)\n",
      "    'end_points', end points of Markov diffusion process (adata.obs)\n"
     ]
    }
   ],
   "source": [
    "select_info, select_weight = graph_prune(adata, group_key, emb_key)\n",
    "start_node = get_start_node(adata, select_info, group_key, njobs=16, mode=\"stochastic\")"
   ]
  },
  {
   "cell_type": "code",
   "execution_count": 4,
   "metadata": {},
   "outputs": [
    {
     "data": {
      "text/plain": [
       "'nIPC'"
      ]
     },
     "execution_count": 4,
     "metadata": {},
     "output_type": "execute_result"
    }
   ],
   "source": [
    "start_node"
   ]
  },
  {
   "cell_type": "markdown",
   "metadata": {},
   "source": [
    "Now we change start_node to another one \"Astrocytes\"."
   ]
  },
  {
   "cell_type": "code",
   "execution_count": 5,
   "metadata": {},
   "outputs": [],
   "source": [
    "start_node = \"Astrocytes\""
   ]
  },
  {
   "cell_type": "markdown",
   "metadata": {},
   "source": [
    "Here we run the following code by cytotrace2_py==1.1.0.1 in an independent environment. Note that we need to use raw dataset without filtering genes in CytoTRACE2."
   ]
  },
  {
   "cell_type": "code",
   "execution_count": null,
   "metadata": {},
   "outputs": [],
   "source": [
    "# from cytotrace2_py.cytotrace2_py import *\n",
    "# import os\n",
    "\n",
    "# data_name = \"DentateGyrus\"\n",
    "# data_path = \"/lustre/project/Stat/s1155184322/datasets/velocity/raw_data/10X43_1.h5ad\"\n",
    "# adata = sc.read(data_path)\n",
    "# group_key = \"clusters\"\n",
    "# emb_key = \"X_umap\""
   ]
  },
  {
   "cell_type": "markdown",
   "metadata": {},
   "source": [
    "Create the directory if it doesn't exist"
   ]
  },
  {
   "cell_type": "code",
   "execution_count": null,
   "metadata": {},
   "outputs": [],
   "source": [
    "# os.makedirs(f\"data/{data_name}\", exist_ok=True)\n",
    "\n",
    "# data = adata.X.T.A.astype(int)\n",
    "# var_names = adata.var_names\n",
    "# obs_index = adata.obs.index\n",
    "\n",
    "# with open(f\"data/{data_name}/{data_name}_data.txt\", \"w\") as f:\n",
    "#     f.write(\"\\t\" + \"\\t\".join(obs_index) + \"\\n\")\n",
    "#     for var_name, row in zip(var_names, data):\n",
    "#         f.write(var_name + \"\\t\" + \"\\t\".join(map(str, row)) + \"\\n\")"
   ]
  },
  {
   "cell_type": "markdown",
   "metadata": {},
   "source": [
    "Open the file in write mode"
   ]
  },
  {
   "cell_type": "code",
   "execution_count": null,
   "metadata": {},
   "outputs": [],
   "source": [
    "# with open(f\"data/{data_name}/{data_name}_annotation.txt\", \"w\") as f:\n",
    "#     f.write(\"phenotype\\n\")\n",
    "#     for index, phenotype in zip(adata.obs.index, adata.obs[group_key]):\n",
    "#         f.write(f\"{index}\\t{phenotype}\\n\")"
   ]
  },
  {
   "cell_type": "markdown",
   "metadata": {},
   "source": [
    "Run CytoTRACE2"
   ]
  },
  {
   "cell_type": "code",
   "execution_count": null,
   "metadata": {},
   "outputs": [],
   "source": [
    "# input_path = f\"data/{data_name}/{data_name}_data.txt\"\n",
    "# example_annotation_path = f\"data/{data_name}/{data_name}_annotation.txt\"\n",
    "# example_species = \"mouse\"\n",
    "\n",
    "# results =  cytotrace2(input_path,\n",
    "#                      annotation_path=example_annotation_path,\n",
    "#                      species=example_species,\n",
    "#                      output_dir=f\"cytotrace2_results/{data_name}\",)"
   ]
  },
  {
   "cell_type": "markdown",
   "metadata": {},
   "source": [
    "Read the results of CytoTRACE2"
   ]
  },
  {
   "cell_type": "code",
   "execution_count": 6,
   "metadata": {},
   "outputs": [],
   "source": [
    "cytotrace_results = pd.read_csv(\"/users/s1155184322/projects/tutorial/cytotrace2/cytotrace2_results/DentateGyrus/cytotrace2_results.txt\",\n",
    "                                sep=\"\\t\", index_col=0)"
   ]
  },
  {
   "cell_type": "code",
   "execution_count": 7,
   "metadata": {},
   "outputs": [],
   "source": [
    "cytotrace_results[group_key] = adata.obs[group_key]"
   ]
  },
  {
   "cell_type": "code",
   "execution_count": 8,
   "metadata": {},
   "outputs": [],
   "source": [
    "median_potency = cytotrace_results.groupby('clusters')['CytoTRACE2_Score'].median()"
   ]
  },
  {
   "cell_type": "code",
   "execution_count": 9,
   "metadata": {},
   "outputs": [],
   "source": [
    "max_node = median_potency.index[median_potency.values.argmax()]\n",
    "min_node = median_potency.index[median_potency.values.argmin()]"
   ]
  },
  {
   "cell_type": "markdown",
   "metadata": {},
   "source": [
    "Correct the start node according to potency score inferred by CytoTRACE2"
   ]
  },
  {
   "cell_type": "code",
   "execution_count": 10,
   "metadata": {},
   "outputs": [
    {
     "data": {
      "text/plain": [
       "'nIPC'"
      ]
     },
     "execution_count": 10,
     "metadata": {},
     "output_type": "execute_result"
    }
   ],
   "source": [
    "if start_node != max_node or start_node != min_node:\n",
    "    start_node = max_node\n",
    "start_node"
   ]
  }
 ],
 "metadata": {
  "kernelspec": {
   "display_name": "tivelo",
   "language": "python",
   "name": "python3"
  },
  "language_info": {
   "codemirror_mode": {
    "name": "ipython",
    "version": 3
   },
   "file_extension": ".py",
   "mimetype": "text/x-python",
   "name": "python",
   "nbconvert_exporter": "python",
   "pygments_lexer": "ipython3",
   "version": "3.9.21"
  }
 },
 "nbformat": 4,
 "nbformat_minor": 2
}
